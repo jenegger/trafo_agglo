{
 "cells": [
  {
   "cell_type": "code",
   "execution_count": 1,
   "id": "2ae631ad-af92-43ae-8814-ace7e0e49d10",
   "metadata": {},
   "outputs": [],
   "source": [
    "import numpy as np\n",
    "from numpy import genfromtxt\n",
    "from itertools import combinations\n",
    "import torch\n",
    "from torch import nn\n",
    "import torch.nn.functional as F\n",
    "import torch.optim as optim\n",
    "import matplotlib.pyplot as plt"
   ]
  },
  {
   "cell_type": "code",
   "execution_count": 2,
   "id": "b780cce1-bd96-4958-be7d-6c44f6541d3a",
   "metadata": {},
   "outputs": [
    {
     "name": "stdout",
     "output_type": "stream",
     "text": [
      "[[ 0.          1.128016    2.699852   -2.22828     0.27121927]\n",
      " [ 1.          0.952915    0.878809    0.519144    0.95261156]\n",
      " [ 1.          0.434082    2.311936   -2.573923    0.93668561]\n",
      " [ 2.          2.209619    2.334585    1.107064    0.52416023]\n",
      " [ 3.          1.71197     1.119164    1.189179    0.78435412]\n",
      " [ 3.          0.461599    0.144536   -2.364426    0.75403444]\n",
      " [ 4.          2.029792    1.303054    1.287916    0.        ]\n",
      " [ 5.          0.756178    2.309371   -1.809833    0.68407621]\n",
      " [ 6.          2.1872      2.85122     0.476108    0.8842718 ]\n",
      " [ 7.          1.921325    2.40708    -1.854133    1.        ]\n",
      " [ 7.          0.24677     1.512456    0.972258    0.95922116]\n",
      " [ 8.          2.12424     0.532672    1.190137    0.63181968]\n",
      " [ 9.          2.165567    1.332818    0.780826    0.52338727]\n",
      " [10.          1.927867    1.392146   -2.161047    0.83159162]\n",
      " [10.          0.155214    2.217043   -2.08358     0.81032574]\n",
      " [11.          2.17151     0.050683   -2.559912    0.75626808]\n",
      " [12.          2.145626    1.009491    0.443566    0.69102447]\n",
      " [13.          2.124236    1.223092    0.907809    0.93919196]\n",
      " [14.          1.594131    0.471      -2.209472    0.35572331]\n",
      " [14.          0.518059    1.420116    0.958236    0.31123073]\n",
      " [15.          1.55693     1.916148   -2.29051     0.3734817 ]\n",
      " [15.          0.206072    0.637334    1.377727    0.43616126]\n",
      " [16.          1.702479    2.493842    1.014602    0.51384286]\n",
      " [17.          1.654359    1.222648    1.05738     0.95706616]\n",
      " [18.          1.16823     1.120366   -1.810196    0.96468413]\n",
      " [18.          0.287956    2.217654   -1.904105    0.97093477]\n",
      " [19.          2.154496    0.160238   -2.305692    0.79557305]\n",
      " [20.          1.302665    0.691381   -2.426968    0.61380342]\n",
      " [21.          1.599256    2.446296   -2.190736    0.93131397]\n",
      " [21.          0.505705    2.893951   -2.040699    0.92312015]\n",
      " [22.          2.141112    0.500761    0.84147     0.51226942]\n",
      " [23.          2.075262    1.629459    1.398027    0.71680964]\n",
      " [24.          2.107771    2.804296   -2.0402      0.52078744]\n",
      " [25.          2.133439    0.213009    1.15649     0.49220052]\n",
      " [26.          0.432454    2.503905   -1.903715    0.94673509]\n",
      " [26.          0.396494    2.997484   -2.487913    0.91160821]\n",
      " [27.          1.648968    2.711728   -1.935581    0.09664776]\n",
      " [28.          1.87284     0.831008    0.776058    0.52866582]\n",
      " [28.          0.145364    1.119843   -2.490079    0.4751277 ]\n",
      " [29.          2.074552    2.684728    1.035565    0.60235617]]\n"
     ]
    }
   ],
   "source": [
    "data = genfromtxt('small_file.txt', delimiter=',')\n",
    "data[:,4] =(data[:,4]-np.min(data[:,4]))/(np.max(data[:,4])-np.min(data[:,4]))\n",
    "print(data)"
   ]
  },
  {
   "cell_type": "markdown",
   "id": "816695a7-e6eb-4c2a-9f84-af6d5bba9efb",
   "metadata": {},
   "source": [
    "### reshape data"
   ]
  },
  {
   "cell_type": "code",
   "execution_count": 3,
   "id": "68245536-cab2-4be9-893f-784fe35e16b9",
   "metadata": {},
   "outputs": [
    {
     "name": "stdout",
     "output_type": "stream",
     "text": [
      "torch.Size([60])\n"
     ]
    },
    {
     "name": "stderr",
     "output_type": "stream",
     "text": [
      "/tmp/ipykernel_31984/3555023645.py:19: UserWarning: Creating a tensor from a list of numpy.ndarrays is extremely slow. Please consider converting the list to a single numpy.ndarray with numpy.array() before converting to a tensor. (Triggered internally at ../torch/csrc/utils/tensor_new.cpp:245.)\n",
      "  input = torch.FloatTensor(ll)\n"
     ]
    }
   ],
   "source": [
    "#print(np.min(data,axis=0)[0])\n",
    "ll = []\n",
    "true_vals = []\n",
    "for i in range(int(np.min(data,axis=0)[0]),int(np.max(data,axis=0)[0]),3):\n",
    "    mask = ((data[:,0] == i) | (data[:,0] == i+1) | (data[:,0] == i+2))\n",
    "    evt = data[mask]\n",
    "    #print(evt)\n",
    "    #print(evt.shape[0])\n",
    "    pair_indices = list(combinations(range(evt.shape[0]), 2))\n",
    "    #print(pair_indices)\n",
    "    for i, (idx1, idx2) in enumerate(pair_indices):\n",
    "        l = []\n",
    "        l.append(np.concatenate((evt[idx1,1:],evt[idx2,1:])))\n",
    "        ll.append(l)\n",
    "        if (evt[idx1,0] == evt[idx2,0]):\n",
    "            true_vals.append(1)\n",
    "        else:\n",
    "            true_vals.append(0)\n",
    "input = torch.FloatTensor(ll)\n",
    "input = torch.squeeze(input)\n",
    "input.shape\n",
    "truth_class = torch.FloatTensor(true_vals)\n",
    "print(truth_class.shape)"
   ]
  },
  {
   "cell_type": "markdown",
   "id": "3eb1fcf6-5633-4b27-a238-a36dd9ac2c34",
   "metadata": {},
   "source": [
    "### simple model"
   ]
  },
  {
   "cell_type": "code",
   "execution_count": 4,
   "id": "d9998ba8-c42f-4a68-909f-38b9d1af4ba2",
   "metadata": {},
   "outputs": [],
   "source": [
    "class feed_forward_model(nn.Module):\n",
    "        def __init__(self):\n",
    "                super().__init__()\n",
    "                self.linear = torch.nn.Linear(8,10000)\n",
    "                self.another_linear = torch.nn.Linear(10000,10000)\n",
    "                self.activation = torch.nn.ReLU()\n",
    "                self.linear_back = torch.nn.Linear(10000,1)\n",
    "\n",
    "        def forward(self, x):\n",
    "                output_tensor = self.linear(x)\n",
    "                output_tensor = self.another_linear(output_tensor)\n",
    "                output_tensor = self.activation(output_tensor)\n",
    "                output_tensor = self.linear_back(output_tensor)\n",
    "                output_tensor = torch.sigmoid(output_tensor)\n",
    "                output_tensor = torch.squeeze(output_tensor)\n",
    "                return output_tensor\n"
   ]
  },
  {
   "cell_type": "markdown",
   "id": "f06358f2-53ed-454b-bbb2-a9f64a53e1c1",
   "metadata": {},
   "source": [
    "## final training"
   ]
  },
  {
   "cell_type": "code",
   "execution_count": 5,
   "id": "120aafd5-087b-40a0-b853-263a130ae9c1",
   "metadata": {},
   "outputs": [
    {
     "name": "stdout",
     "output_type": "stream",
     "text": [
      "Finished epoch 0, latest loss 0.6891021728515625\n",
      "Finished epoch 1, latest loss 0.6540641784667969\n",
      "Finished epoch 2, latest loss 0.6242064237594604\n",
      "Finished epoch 3, latest loss 0.5987007021903992\n",
      "Finished epoch 4, latest loss 0.5768409967422485\n",
      "Finished epoch 5, latest loss 0.5580373406410217\n",
      "Finished epoch 6, latest loss 0.5417975783348083\n",
      "Finished epoch 7, latest loss 0.5277116298675537\n",
      "Finished epoch 8, latest loss 0.5154358148574829\n",
      "Finished epoch 9, latest loss 0.5046859979629517\n",
      "Finished epoch 10, latest loss 0.49522843956947327\n",
      "Finished epoch 11, latest loss 0.48686856031417847\n",
      "Finished epoch 12, latest loss 0.47944211959838867\n",
      "Finished epoch 13, latest loss 0.4728153347969055\n",
      "Finished epoch 14, latest loss 0.4668746292591095\n",
      "Finished epoch 15, latest loss 0.4615238904953003\n",
      "Finished epoch 16, latest loss 0.456683486700058\n",
      "Finished epoch 17, latest loss 0.45228609442710876\n",
      "Finished epoch 18, latest loss 0.4482736587524414\n",
      "Finished epoch 19, latest loss 0.44459691643714905\n",
      "Finished epoch 20, latest loss 0.4412136375904083\n",
      "Finished epoch 21, latest loss 0.43808797001838684\n",
      "Finished epoch 22, latest loss 0.435189425945282\n",
      "Finished epoch 23, latest loss 0.43249189853668213\n",
      "Finished epoch 24, latest loss 0.42997196316719055\n",
      "Finished epoch 25, latest loss 0.4276098608970642\n",
      "Finished epoch 26, latest loss 0.42538827657699585\n",
      "Finished epoch 27, latest loss 0.4232912063598633\n",
      "Finished epoch 28, latest loss 0.421305388212204\n",
      "Finished epoch 29, latest loss 0.4194199740886688\n",
      "Finished epoch 30, latest loss 0.4176248013973236\n",
      "Finished epoch 31, latest loss 0.41591084003448486\n",
      "Finished epoch 32, latest loss 0.41427066922187805\n",
      "Finished epoch 33, latest loss 0.41269680857658386\n",
      "Finished epoch 34, latest loss 0.4111831486225128\n",
      "Finished epoch 35, latest loss 0.40972432494163513\n",
      "Finished epoch 36, latest loss 0.4083155393600464\n",
      "Finished epoch 37, latest loss 0.40695205330848694\n",
      "Finished epoch 38, latest loss 0.4056302011013031\n",
      "Finished epoch 39, latest loss 0.4043467938899994\n",
      "Finished epoch 40, latest loss 0.4030986726284027\n",
      "Finished epoch 41, latest loss 0.4018835723400116\n",
      "Finished epoch 42, latest loss 0.4006986618041992\n",
      "Finished epoch 43, latest loss 0.3995417654514313\n",
      "Finished epoch 44, latest loss 0.39841070771217346\n",
      "Finished epoch 45, latest loss 0.39730387926101685\n",
      "Finished epoch 46, latest loss 0.3962194621562958\n",
      "Finished epoch 47, latest loss 0.39515629410743713\n",
      "Finished epoch 48, latest loss 0.3941129148006439\n",
      "Finished epoch 49, latest loss 0.3930884003639221\n",
      "Finished epoch 50, latest loss 0.3920814096927643\n",
      "Finished epoch 51, latest loss 0.3910909593105316\n",
      "Finished epoch 52, latest loss 0.390116423368454\n",
      "Finished epoch 53, latest loss 0.3891567885875702\n",
      "Finished epoch 54, latest loss 0.38821130990982056\n",
      "Finished epoch 55, latest loss 0.38727903366088867\n",
      "Finished epoch 56, latest loss 0.3863596022129059\n",
      "Finished epoch 57, latest loss 0.3854518234729767\n",
      "Finished epoch 58, latest loss 0.384555459022522\n",
      "Finished epoch 59, latest loss 0.38367021083831787\n",
      "Finished epoch 60, latest loss 0.3827958106994629\n",
      "Finished epoch 61, latest loss 0.38193178176879883\n",
      "Finished epoch 62, latest loss 0.3810778856277466\n",
      "Finished epoch 63, latest loss 0.3802334666252136\n",
      "Finished epoch 64, latest loss 0.3793983459472656\n",
      "Finished epoch 65, latest loss 0.3785722553730011\n",
      "Finished epoch 66, latest loss 0.3777547776699066\n",
      "Finished epoch 67, latest loss 0.37694549560546875\n",
      "Finished epoch 68, latest loss 0.3761445879936218\n",
      "Finished epoch 69, latest loss 0.3753514289855957\n",
      "Finished epoch 70, latest loss 0.3745660185813904\n",
      "Finished epoch 71, latest loss 0.3737882971763611\n",
      "Finished epoch 72, latest loss 0.37301820516586304\n",
      "Finished epoch 73, latest loss 0.3722553849220276\n",
      "Finished epoch 74, latest loss 0.3714997172355652\n",
      "Finished epoch 75, latest loss 0.3707508444786072\n",
      "Finished epoch 76, latest loss 0.37000876665115356\n",
      "Finished epoch 77, latest loss 0.36927327513694763\n",
      "Finished epoch 78, latest loss 0.36854419112205505\n",
      "Finished epoch 79, latest loss 0.3678213655948639\n",
      "Finished epoch 80, latest loss 0.3671046197414398\n",
      "Finished epoch 81, latest loss 0.36639404296875\n",
      "Finished epoch 82, latest loss 0.36568933725357056\n",
      "Finished epoch 83, latest loss 0.3649904131889343\n",
      "Finished epoch 84, latest loss 0.3642972409725189\n",
      "Finished epoch 85, latest loss 0.36360958218574524\n",
      "Finished epoch 86, latest loss 0.3629274070262909\n",
      "Finished epoch 87, latest loss 0.3622509837150574\n",
      "Finished epoch 88, latest loss 0.36158016324043274\n",
      "Finished epoch 89, latest loss 0.3609146475791931\n",
      "Finished epoch 90, latest loss 0.36025428771972656\n",
      "Finished epoch 91, latest loss 0.35959896445274353\n",
      "Finished epoch 92, latest loss 0.3589487671852112\n",
      "Finished epoch 93, latest loss 0.35830360651016235\n",
      "Finished epoch 94, latest loss 0.3576635420322418\n",
      "Finished epoch 95, latest loss 0.35702845454216003\n",
      "Finished epoch 96, latest loss 0.35639816522598267\n",
      "Finished epoch 97, latest loss 0.35577261447906494\n",
      "Finished epoch 98, latest loss 0.35515207052230835\n",
      "Finished epoch 99, latest loss 0.35453611612319946\n"
     ]
    }
   ],
   "source": [
    "n_epochs = 100\n",
    "model = feed_forward_model()\n",
    "loss_fn = nn.BCELoss()  # binary cross entropy\n",
    "optimizer = optim.SGD(model.parameters(), lr=2e-4)\n",
    "model.train()\n",
    "loss_val = []\n",
    "for epoch in range(n_epochs):\n",
    "    y_pred = model(input)\n",
    "    y_true = truth_class\n",
    "    loss = loss_fn(y_pred,y_true)\n",
    "    loss_val.append(loss.detach().item())\n",
    "    optimizer.zero_grad()\n",
    "    loss.backward()\n",
    "    optimizer.step()\n",
    "    print(f'Finished epoch {epoch}, latest loss {loss}')"
   ]
  },
  {
   "cell_type": "code",
   "execution_count": 9,
   "id": "24cc6e3c-0419-4733-a521-9611b3e17c49",
   "metadata": {},
   "outputs": [
    {
     "data": {
      "text/plain": [
       "Text(0, 0.5, 'loss value')"
      ]
     },
     "execution_count": 9,
     "metadata": {},
     "output_type": "execute_result"
    },
    {
     "data": {
      "image/png": "[encoded data removed]",
      "text/plain": [
       "<Figure size 640x480 with 1 Axes>"
      ]
     },
     "metadata": {},
     "output_type": "display_data"
    }
   ],
   "source": [
    "plt.plot(loss_val)\n",
    "plt.xlabel(\"epochs\")\n",
    "plt.ylabel(\"loss value\")"
   ]
  },
  {
   "cell_type": "code",
   "execution_count": null,
   "id": "bfe56a16-09fe-43a6-aef8-567a82f817cc",
   "metadata": {},
   "outputs": [],
   "source": []
  }
 ],
 "metadata": {
  "kernelspec": {
   "display_name": "Python 3 (ipykernel)",
   "language": "python",
   "name": "python3"
  },
  "language_info": {
   "codemirror_mode": {
    "name": "ipython",
    "version": 3
   },
   "file_extension": ".py",
   "mimetype": "text/x-python",
   "name": "python",
   "nbconvert_exporter": "python",
   "pygments_lexer": "ipython3",
   "version": "3.10.12"
  }
 },
 "nbformat": 4,
 "nbformat_minor": 5
}
