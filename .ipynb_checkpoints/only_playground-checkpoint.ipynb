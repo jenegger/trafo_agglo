{
 "cells": [
  {
   "cell_type": "code",
   "execution_count": 1,
   "id": "333978a8",
   "metadata": {},
   "outputs": [],
   "source": [
    "import numpy as np\n",
    "from numpy import genfromtxt\n",
    "from itertools import combinations\n",
    "import torch\n",
    "import math \n",
    "from torch import nn\n",
    "import torch.nn.functional as F\n",
    "import torch.optim as optim\n",
    "import matplotlib.pyplot as plt"
   ]
  },
  {
   "cell_type": "markdown",
   "id": "87476167",
   "metadata": {},
   "source": [
    "### ideas for implementation\n",
    "large_list = []\n",
    "while (data.shape[0]):\n",
    "\n",
    "    v_temp = empty\n",
    "    l = []\n",
    "    for i in range(data.shape[0]):\n",
    "        if (i == 0):\n",
    "            l.append(data[0,6])\n",
    "        else:\n",
    "            #calculate angle\n",
    "            if (angle < clustersize):\n",
    "                l.append(data[i,6])\n",
    "            else:\n",
    "                v_temp.append(data[i,:])\n",
    "    large_list.append(l)\n",
    "    data = v_temp\n",
    "## large list is something like [[0,3,2],[1,4],[5]] -> pair indices are [0,2],[0,3],[1,4]\n",
    "## 1) remove all sublists with single entry\n",
    "## 2) loop over all sublists and create combinations\n",
    "## 3) add all combinations to a list\n",
    "\n",
    "\n",
    "## [0,1],[0,2],...\n",
    "\n",
    "## make all combinations\n",
    "pair_indices = list(combinations(range(evt.shape[0],2))\n",
    "if (evt[idx1,6] == evt[idx2,6]):\n",
    "    true_vals.append(1)\n",
    "else:\n",
    "    true_vals.append(0)\n",
    "\n",
    "## predictions\n",
    "pred_list = []\n",
    "for i in len(pair_indices):\n",
    "    pred_value = 0\n",
    "    for j in len(reco_indices):\n",
    "        if (pair_indices[i] == reco_indices[j]) pred_value = 1\n",
    "    pred_list.append(pred_value)\n",
    "\n",
    "\n",
    "you have in python a list of combinations like:\n",
    "\n",
    "[(0, 1), (0, 2), (0, 3), (1, 2), (1, 3), (2, 3)]\n",
    "\n",
    "then you want to loop over the combinations\n",
    "\n",
    "and check if these combinations exist in another list of combinations like\n",
    "\n",
    "[(0, 1), (0, 2), (0, 3)]\n",
    "\n",
    "where you do not want to be sensitive if a combination is switched, like (0,2) and (2,0)\n"
   ]
  },
  {
   "cell_type": "code",
   "execution_count": 2,
   "id": "9c684a78",
   "metadata": {},
   "outputs": [],
   "source": [
    "l = [[0,3,2],[1,4],[5]]"
   ]
  },
  {
   "cell_type": "code",
   "execution_count": 3,
   "id": "0eb7177d",
   "metadata": {},
   "outputs": [
    {
     "name": "stdout",
     "output_type": "stream",
     "text": [
      "[[0, 3, 2], [1, 4]]\n",
      "[(0, 3), (0, 2), (3, 2)]\n",
      "[(1, 4)]\n",
      "final list:\n",
      "[[(0, 3), (0, 2), (3, 2)], [(1, 4)]]\n",
      "[(0, 3), (0, 2), (3, 2), (1, 4)]\n"
     ]
    }
   ],
   "source": [
    "compr = []\n",
    "for i in range(len(l)):\n",
    "    if len(l[i]) > 1:\n",
    "        compr.append(l[i])\n",
    "    else:\n",
    "        continue\n",
    "        \n",
    "print(compr)\n",
    "\n",
    "#####\n",
    "final_list = []\n",
    "for i in range(len(compr)):\n",
    "    pair_indices = list(combinations(compr[i],2))\n",
    "    print(pair_indices)\n",
    "    final_list.append(pair_indices)\n",
    "    \n",
    "print(\"final list:\")\n",
    "print(final_list)\n",
    "\n",
    "def flatten(xss):\n",
    "    return [x for xs in xss for x in xs]\n",
    "\n",
    "flat_final = flatten(final_list)\n",
    "print(flat_final)\n",
    "reco_indices = flat_final"
   ]
  },
  {
   "cell_type": "code",
   "execution_count": 4,
   "id": "557aea3c",
   "metadata": {},
   "outputs": [],
   "source": [
    "pair_indices = list(combinations(range(5), 2))\n"
   ]
  },
  {
   "cell_type": "code",
   "execution_count": 5,
   "id": "2cbb02dc",
   "metadata": {},
   "outputs": [],
   "source": [
    "## predictions\n",
    "pred_list = []\n",
    "for i in range(len(pair_indices)):\n",
    "    pred_value = 0\n",
    "    for j in range(len(reco_indices)):\n",
    "        if (pair_indices[i] == reco_indices[j]):\n",
    "            pred_value = 1\n",
    "    pred_list.append(pred_value)\n",
    "    "
   ]
  },
  {
   "cell_type": "code",
   "execution_count": 6,
   "id": "df492a3f",
   "metadata": {},
   "outputs": [
    {
     "name": "stdout",
     "output_type": "stream",
     "text": [
      "[0, 1, 1, 0, 0, 0, 1, 0, 0, 0]\n"
     ]
    }
   ],
   "source": [
    "print(pred_list)"
   ]
  },
  {
   "cell_type": "code",
   "execution_count": null,
   "id": "6bf41fa1",
   "metadata": {},
   "outputs": [],
   "source": []
  }
 ],
 "metadata": {
  "kernelspec": {
   "display_name": "Python 3",
   "language": "python",
   "name": "python3"
  },
  "language_info": {
   "codemirror_mode": {
    "name": "ipython",
    "version": 3
   },
   "file_extension": ".py",
   "mimetype": "text/x-python",
   "name": "python",
   "nbconvert_exporter": "python",
   "pygments_lexer": "ipython3",
   "version": "3.6.9"
  }
 },
 "nbformat": 4,
 "nbformat_minor": 5
}
