{
 "cells": [
  {
   "cell_type": "code",
   "execution_count": 1,
   "id": "333978a8",
   "metadata": {},
   "outputs": [],
   "source": [
    "import numpy as np\n",
    "from numpy import genfromtxt\n",
    "from itertools import combinations\n",
    "import torch\n",
    "import math \n",
    "from torch import nn\n",
    "import torch.nn.functional as F\n",
    "import torch.optim as optim\n",
    "import matplotlib.pyplot as plt\n",
    "import networkx as nx"
   ]
  },
  {
   "cell_type": "code",
   "execution_count": 2,
   "id": "3a11a456-0ba4-4b57-8dd9-eea09f6c588f",
   "metadata": {},
   "outputs": [],
   "source": [
    "def angle_btw_hits(arr1,arr2):\n",
    "    theta1 = arr1[2]\n",
    "    theta2 = arr2[2]\n",
    "    phi1 = arr1[3]\n",
    "    phi2 = arr2[3]\n",
    "    opang = math.acos(math.sin(theta1)*math.sin(theta2)*math.cos(phi1-phi2)+math.cos(theta1)*math.cos(theta2))\n",
    "    return opang"
   ]
  },
  {
   "cell_type": "code",
   "execution_count": 3,
   "id": "3bb8fca7-5037-4a7e-a03d-a67656e851a1",
   "metadata": {},
   "outputs": [],
   "source": [
    "def flatten(xss):\n",
    "    return [x for xs in xss for x in xs]"
   ]
  },
  {
   "cell_type": "code",
   "execution_count": 4,
   "id": "384a3164-4a05-4b4b-8339-fad624f00365",
   "metadata": {},
   "outputs": [],
   "source": [
    "def run_r3b_clustering(data,clustersize):\n",
    "    print(data.shape)\n",
    "    array_unique_events = np.unique(data[:,0])\n",
    "    print(array_unique_events)\n",
    "    all_pred = []\n",
    "    for i in range(0,int(np.max(data,axis=0)[0])-(int(np.max(data,axis=0)[0])%3) ,3):\n",
    "        evt = data[data[:,0] == array_unique_events[i]]\n",
    "        evt = np.vstack((evt,data[data[:,0] == array_unique_events[i+1]]))\n",
    "        evt = np.vstack((evt,data[data[:,0] == array_unique_events[i+2]]))\n",
    "        nr_hits = evt.shape[0]\n",
    "        hitnr = np.array([x for x in range(evt.shape[0])])\n",
    "        hitnr = np.transpose(hitnr)\n",
    "        hitnr = hitnr.reshape(-1, 1)\n",
    "        evt = np.hstack((evt,hitnr))\n",
    "        # sort along the energy\n",
    "        evt = evt[evt[:, 1].argsort()[::-1]]\n",
    "        #now check opening angle between the hits\n",
    "        cluster_list = []\n",
    "        while(evt.shape[0]):\n",
    "            v_temp = []\n",
    "            l = []\n",
    "            for i in range(evt.shape[0]):\n",
    "                if (i == 0):\n",
    "                    l.append(evt[0,5].astype(int))\n",
    "                else:\n",
    "                    #calculate angle\n",
    "                    angle = angle_btw_hits(evt[0,:],evt[i,:])\n",
    "                    if (angle < clustersize):\n",
    "                        l.append(evt[i,5].astype(int))\n",
    "                    else:\n",
    "                        v_temp.append(evt[i,:])\n",
    "            l.sort()\n",
    "            cluster_list.append(l)\n",
    "            evt = np.array(v_temp)\n",
    "        #compress list of clusters, they need at least two entries to be a cluster, otherwise the single hit is treated as cluster\n",
    "        compr_cluster_list = []\n",
    "        for i in range(len(cluster_list)):\n",
    "            if len(cluster_list[i]) > 1:\n",
    "                compr_cluster_list.append(cluster_list[i])\n",
    "            else:\n",
    "                continue\n",
    "        final_pair_list = []\n",
    "        for i in range(len(compr_cluster_list)):\n",
    "            pair_indices = list(combinations(compr_cluster_list[i],2))\n",
    "            final_pair_list.append(pair_indices)\n",
    "        reco_indices = flatten(final_pair_list)\n",
    "        # compare all combinations with all predicted combinations\n",
    "        all_combinations = list(combinations(range(nr_hits), 2))\n",
    "        ## predictions\n",
    "        pred_list = []\n",
    "        for i in range(len(all_combinations)):\n",
    "            pred_value = 0\n",
    "            for j in range(len(reco_indices)):\n",
    "                if (all_combinations[i] == reco_indices[j]):\n",
    "                    #print(type(reco_indices[j]))\n",
    "                    pred_value = 1\n",
    "            pred_list.append(pred_value)\n",
    "            all_pred.append(pred_value)\n",
    "    return all_pred\n",
    "        \n",
    "\n",
    "\n",
    "\n",
    "\n",
    "        "
   ]
  },
  {
   "cell_type": "markdown",
   "id": "aa29a3c6-83ad-47a8-9dd0-57571595f046",
   "metadata": {},
   "source": [
    "## now method to plot data:"
   ]
  },
  {
   "cell_type": "code",
   "execution_count": 5,
   "id": "52a149e5-e075-49db-b6cc-ea42f44b940c",
   "metadata": {},
   "outputs": [],
   "source": [
    "def plot_true_reco(data):\n",
    "    energy_spec = []\n",
    "    unique_ind = np.unique(data[:,0])\n",
    "    for i in unique_ind:\n",
    "        ene = np.sum(data[data[:,0] == i,1])\n",
    "        energy_spec.append(ene)\n",
    "\n",
    "    plt.hist(energy_spec,bins=70,range=(0,7))\n",
    "    plt.title(\"True energy spectrum\")\n",
    "    plt.yscale('log')\n"
   ]
  },
  {
   "cell_type": "markdown",
   "id": "c203ad7b-fc13-4a08-84fa-f6851945dfcf",
   "metadata": {},
   "source": [
    "### in this section I want to get the true values combination list\n",
    "---"
   ]
  },
  {
   "cell_type": "code",
   "execution_count": 6,
   "id": "1b2b1873-d3eb-4731-aba8-258561f473fe",
   "metadata": {},
   "outputs": [],
   "source": [
    "def get_true_combinatorics(data):\n",
    "    ll = []\n",
    "    true_vals = []\n",
    "    for i in range(0,int(np.max(data,axis=0)[0])-(int(np.max(data,axis=0)[0])%3) ,3):\n",
    "        mask = ((data[:,0] == i) | (data[:,0] == i+1) | (data[:,0] == i+2))\n",
    "        evt = data[mask]\n",
    "        pair_indices = list(combinations(range(evt.shape[0]), 2))\n",
    "        for i, (idx1, idx2) in enumerate(pair_indices):\n",
    "            l = []\n",
    "            if (evt[idx1,0] == evt[idx2,0]):\n",
    "                true_vals.append(1)\n",
    "            else:\n",
    "                true_vals.append(0)\n",
    "    return (true_vals)"
   ]
  },
  {
   "cell_type": "markdown",
   "id": "1dd41101-5c5a-4765-9019-6996dbfefa23",
   "metadata": {},
   "source": [
    "---"
   ]
  },
  {
   "cell_type": "code",
   "execution_count": 7,
   "id": "4ba74d0f-e447-4cbc-908a-d225e3d9c110",
   "metadata": {},
   "outputs": [],
   "source": [
    "def get_true_reco_ene(data,reco_vals,true_vals):\n",
    "    ene_list = []\n",
    "    ene_true_list = []\n",
    "    idx = 0\n",
    "    well_reco = 0\n",
    "    array_unique_events = np.unique(data[:,0])\n",
    "    for i in range(0,int(np.max(data,axis=0)[0])-(int(np.max(data,axis=0)[0])%3) ,3):\n",
    "        mask = ((data[:,0] == i) | (data[:,0] == i+1) | (data[:,0] == i+2))\n",
    "        evt = data[mask]\n",
    "        pair_indices = list(combinations(range(evt.shape[0]), 2))\n",
    "        ##pair indices which belong together...\n",
    "        pred_comb = []\n",
    "        ##TJ this is the new part with true stuff\n",
    "        true_comb = []\n",
    "        for m in range(evt.shape[0]):\n",
    "            pred_comb.append((m,m))\n",
    "            true_comb.append((m,m))\n",
    "        for j in range (len(pair_indices)):\n",
    "            if reco_vals[idx+j] > 0.65:\n",
    "                pred_comb.append(pair_indices[j])\n",
    "            if true_vals[idx+j] > 0.65:   \n",
    "                true_comb.append(pair_indices[j])\n",
    "        G = nx.Graph()\n",
    "        G.add_edges_from(pred_comb)\n",
    "        connected_components = list(nx.connected_components(G))\n",
    "        ##TJ again, this it the addition for the true values\n",
    "        T = nx.Graph()\n",
    "        T.add_edges_from(true_comb)\n",
    "        true_components = list(nx.connected_components(T))\n",
    "        set_true = {frozenset(sublist) for sublist in true_components}\n",
    "        set_pred = {frozenset(sublist) for sublist in connected_components}\n",
    "        # Find the intersection of the two sets\n",
    "        common_sublists = set_true.intersection(set_pred)\n",
    "        well_reco += len(common_sublists)\n",
    "        for k in range(len(connected_components)):\n",
    "            columns_to_sum = evt[list(connected_components[k]),1]\n",
    "            ene = np.sum(columns_to_sum)\n",
    "            ene_list.append(ene)\n",
    "        #make list true energy\n",
    "        for l in range(len(true_components)):\n",
    "            true_columns_to_sum = evt[list(true_components[l]),1]\n",
    "            ene_true = np.sum(true_columns_to_sum)\n",
    "            ene_true_list.append(ene_true)\n",
    "        idx += len(pair_indices)\n",
    "    single_hit_energies = []\n",
    "    for i in range(data.shape[0]):\n",
    "        single_hit_energies.append(data[i,1])\n",
    "        \n",
    "    #plt.hist(single_hit_energies,bins=70,range=(0,7),label=\"single hit energy\",color=\"green\",alpha=0.5)    \n",
    "    plt.hist(ene_list,bins=100,range=(0,10),label=\"reconstructed energy\",color=\"red\",alpha=0.3)\n",
    "    plt.grid()\n",
    "    plt.hist(ene_true_list,bins=100,range=(0,10),label=\"true energies\",color=\"blue\",alpha=0.3)\n",
    "    plt.legend()\n",
    "    plt.yscale('log')\n",
    "    well_reco = float(well_reco)/float(np.max(data,axis=0)[0])\n",
    "    print(\"well reco...\", well_reco)\n",
    "    return (ene_list,ene_true_list,well_reco)"
   ]
  },
  {
   "cell_type": "code",
   "execution_count": 8,
   "id": "f4ff4356-9fb1-4c8f-b9c9-df6dccc8910e",
   "metadata": {},
   "outputs": [
    {
     "name": "stdout",
     "output_type": "stream",
     "text": [
      "continuous numbers: [    0     1     1 ... 36453 36453 36453]\n"
     ]
    }
   ],
   "source": [
    "#data = genfromtxt('raw_data_test.txt', delimiter=',')\n",
    "data = genfromtxt('data_stream_2121.txt', delimiter=',')\n",
    "#my_data[:,4] = my_data[:,4]+4500  #this step is needed, I only want positive time values, so that I can use the time as a radius\n",
    "data[:,4] = 1  #this step is needed, I only want positive time values, so that I can use the time as a radius\n",
    "# ### structure of mydata : eventnr, energy, theta, phi, hit-time\n",
    "data = data*[1.,1.,3.14159/180,3.14159/180,1.]\n",
    "unique_values, continuous_numbers = np.unique(data[:,0], return_inverse=True)\n",
    "data[:,0] = continuous_numbers\n",
    "print(\"continuous numbers:\", continuous_numbers)\n",
    "#out_cluster_r3b = run_r3b_clustering(data,0.25)\n",
    "#foo = plot_true_reco(data)\n",
    "#foo_comb = get_true_combinatorics(data)\n",
    "#foo_ene = get_true_reco_ene(data,out_cluster_r3b,foo_comb)\n",
    "\n"
   ]
  },
  {
   "cell_type": "code",
   "execution_count": null,
   "id": "393a03a0",
   "metadata": {},
   "outputs": [],
   "source": []
  }
 ],
 "metadata": {
  "kernelspec": {
   "display_name": "Python 3",
   "language": "python",
   "name": "python3"
  },
  "language_info": {
   "codemirror_mode": {
    "name": "ipython",
    "version": 3
   },
   "file_extension": ".py",
   "mimetype": "text/x-python",
   "name": "python",
   "nbconvert_exporter": "python",
   "pygments_lexer": "ipython3",
   "version": "3.6.9"
  }
 },
 "nbformat": 4,
 "nbformat_minor": 5
}
