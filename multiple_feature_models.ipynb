{
 "cells": [
  {
   "cell_type": "markdown",
   "id": "f5eddd6d-55ea-4a93-9152-c204bfbbcadd",
   "metadata": {},
   "source": [
    "### here to add the different models with multiple features"
   ]
  },
  {
   "cell_type": "code",
   "execution_count": null,
   "id": "50ae67d8-e399-469c-ad03-7141b244c51f",
   "metadata": {},
   "outputs": [],
   "source": []
  }
 ],
 "metadata": {
  "kernelspec": {
   "display_name": "Python 3 (ipykernel)",
   "language": "python",
   "name": "python3"
  },
  "language_info": {
   "codemirror_mode": {
    "name": "ipython",
    "version": 3
   },
   "file_extension": ".py",
   "mimetype": "text/x-python",
   "name": "python",
   "nbconvert_exporter": "python",
   "pygments_lexer": "ipython3",
   "version": "3.10.12"
  }
 },
 "nbformat": 4,
 "nbformat_minor": 5
}
