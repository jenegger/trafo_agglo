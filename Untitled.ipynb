{
 "cells": [
  {
   "cell_type": "code",
   "execution_count": 1,
   "id": "398af880-5bb8-475a-acad-49b8ed9bc848",
   "metadata": {},
   "outputs": [],
   "source": [
    "import numpy as np\n",
    "from numpy import genfromtxt\n",
    "from itertools import combinations\n",
    "import torch\n",
    "import math \n",
    "from torch import nn\n",
    "import torch.nn.functional as F\n",
    "import torch.optim as optim\n",
    "import matplotlib.pyplot as plt\n",
    "import networkx as nx"
   ]
  },
  {
   "cell_type": "code",
   "execution_count": 12,
   "id": "76359a27-b80a-43c3-b49e-cb80173dd50f",
   "metadata": {},
   "outputs": [],
   "source": [
    "data = genfromtxt('test_output_false_negative.txt', delimiter=',')\n",
    "unique_values, continuous_numbers = np.unique(data[:,0], return_inverse=True)"
   ]
  },
  {
   "cell_type": "code",
   "execution_count": 13,
   "id": "f135c9dc-7b82-4feb-95e6-79b17a61d0a8",
   "metadata": {},
   "outputs": [
    {
     "name": "stdout",
     "output_type": "stream",
     "text": [
      "3240.0\n"
     ]
    }
   ],
   "source": [
    "print(len(unique_values)/3.)"
   ]
  },
  {
   "cell_type": "code",
   "execution_count": 4,
   "id": "16b574a8-db94-4995-b778-8a6189558d85",
   "metadata": {},
   "outputs": [],
   "source": [
    "#print(unique_values[31499])\n"
   ]
  },
  {
   "cell_type": "code",
   "execution_count": null,
   "id": "f1dd8ef9-fa16-420f-af4c-8978b14ae18f",
   "metadata": {},
   "outputs": [],
   "source": []
  }
 ],
 "metadata": {
  "kernelspec": {
   "display_name": "Python 3 (ipykernel)",
   "language": "python",
   "name": "python3"
  },
  "language_info": {
   "codemirror_mode": {
    "name": "ipython",
    "version": 3
   },
   "file_extension": ".py",
   "mimetype": "text/x-python",
   "name": "python",
   "nbconvert_exporter": "python",
   "pygments_lexer": "ipython3",
   "version": "3.10.12"
  }
 },
 "nbformat": 4,
 "nbformat_minor": 5
}
