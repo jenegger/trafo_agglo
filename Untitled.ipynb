{
 "cells": [
  {
   "cell_type": "code",
   "execution_count": 1,
   "id": "398af880-5bb8-475a-acad-49b8ed9bc848",
   "metadata": {},
   "outputs": [],
   "source": [
    "import numpy as np\n",
    "from numpy import genfromtxt\n",
    "from itertools import combinations\n",
    "import torch\n",
    "import math \n",
    "from torch import nn\n",
    "import torch.nn.functional as F\n",
    "import torch.optim as optim\n",
    "import matplotlib.pyplot as plt\n",
    "import networkx as nx"
   ]
  },
  {
   "cell_type": "code",
   "execution_count": 7,
   "id": "76359a27-b80a-43c3-b49e-cb80173dd50f",
   "metadata": {},
   "outputs": [],
   "source": [
    "data = genfromtxt('validation_raw.txt', delimiter=',')\n",
    "unique_values, continuous_numbers = np.unique(data[:,0], return_inverse=True)"
   ]
  },
  {
   "cell_type": "code",
   "execution_count": 8,
   "id": "f135c9dc-7b82-4feb-95e6-79b17a61d0a8",
   "metadata": {},
   "outputs": [
    {
     "name": "stdout",
     "output_type": "stream",
     "text": [
      "13500\n"
     ]
    }
   ],
   "source": [
    "print(len(unique_values))"
   ]
  },
  {
   "cell_type": "code",
   "execution_count": 9,
   "id": "16b574a8-db94-4995-b778-8a6189558d85",
   "metadata": {},
   "outputs": [
    {
     "ename": "IndexError",
     "evalue": "index 31499 is out of bounds for axis 0 with size 13500",
     "output_type": "error",
     "traceback": [
      "\u001b[0;31m---------------------------------------------------------------------------\u001b[0m",
      "\u001b[0;31mIndexError\u001b[0m                                Traceback (most recent call last)",
      "Cell \u001b[0;32mIn[9], line 1\u001b[0m\n\u001b[0;32m----> 1\u001b[0m \u001b[38;5;28mprint\u001b[39m(\u001b[43munique_values\u001b[49m\u001b[43m[\u001b[49m\u001b[38;5;241;43m31499\u001b[39;49m\u001b[43m]\u001b[49m)\n",
      "\u001b[0;31mIndexError\u001b[0m: index 31499 is out of bounds for axis 0 with size 13500"
     ]
    }
   ],
   "source": [
    "print(unique_values[31499])\n"
   ]
  },
  {
   "cell_type": "code",
   "execution_count": null,
   "id": "f1dd8ef9-fa16-420f-af4c-8978b14ae18f",
   "metadata": {},
   "outputs": [],
   "source": []
  }
 ],
 "metadata": {
  "kernelspec": {
   "display_name": "Python 3 (ipykernel)",
   "language": "python",
   "name": "python3"
  },
  "language_info": {
   "codemirror_mode": {
    "name": "ipython",
    "version": 3
   },
   "file_extension": ".py",
   "mimetype": "text/x-python",
   "name": "python",
   "nbconvert_exporter": "python",
   "pygments_lexer": "ipython3",
   "version": "3.10.12"
  }
 },
 "nbformat": 4,
 "nbformat_minor": 5
}
