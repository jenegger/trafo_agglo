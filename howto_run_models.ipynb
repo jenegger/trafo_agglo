{
 "cells": [
  {
   "cell_type": "markdown",
   "id": "6bec9fd5-31bd-4b54-a729-3aed686b2757",
   "metadata": {},
   "source": [
    "### r3bmodel"
   ]
  },
  {
   "cell_type": "code",
   "execution_count": null,
   "id": "6768c037-0344-4f2b-af35-94e6fcc8d4e7",
   "metadata": {},
   "outputs": [],
   "source": [
    "#data = genfromtxt('raw_data_test.txt', delimiter=',')\n",
    "#data = genfromtxt('validation_raw.txt',delimiter=',')\n",
    "data = genfromtxt('data_raw_uniform_test.csv',delimiter=',')\n",
    "#data = genfromtxt('data_stream_2121.txt', delimiter=',')\n",
    "#my_data[:,4] = my_data[:,4]+4500  #this step is needed, I only want positive time values, so that I can use the time as a radius\n",
    "data[:,4] = 1  #this step is needed, I only want positive time values, so that I can use the time as a radius\n",
    "# ### structure of mydata : eventnr, energy, theta, phi, hit-time\n",
    "data = data*[1.,1.,3.14159/180,3.14159/180,1.]\n",
    "unique_values, continuous_numbers = np.unique(data[:,0], return_inverse=True)\n",
    "data[:,0] = continuous_numbers\n",
    "print(\"continuous numbers:\", continuous_numbers)\n",
    "out_cluster_r3b = run_r3b_clustering(data,0.25)\n",
    "#foo = plot_true_reco(data)\n",
    "foo_comb = get_true_combinatorics(data)\n",
    "foo_ene = get_true_reco_ene(data,out_cluster_r3b,foo_comb)"
   ]
  },
  {
   "cell_type": "markdown",
   "id": "09d9ddd9-a455-4c7f-a1f2-4d8a32ace02b",
   "metadata": {},
   "source": [
    "### agglomerative model"
   ]
  },
  {
   "cell_type": "code",
   "execution_count": null,
   "id": "3ec1ad79-9f40-4995-b396-04a7f1cb9df6",
   "metadata": {},
   "outputs": [],
   "source": [
    "#data = genfromtxt('raw_data_test.txt', delimiter=',')\n",
    "data = genfromtxt('data_raw_uniform_test.csv', delimiter=',')\n",
    "#data = genfromtxt('data_stream_2121.txt', delimiter=',')\n",
    "data[:,4] = data[:,4]+4500  #this step is needed, I only want positive time values, so that I can use the time as a radius\n",
    "#my_data[:,4] = 1  #this step is needed, I only want positive time values, so that I can use the time as a radius\n",
    "\n",
    "# ### structure of mydata : eventnr, energy, theta, phi, hit-time\n",
    "data = data*[1.,1.,3.14159/180,3.14159/180,1.]\n",
    "unique_values, continuous_numbers = np.unique(data[:,0], return_inverse=True)\n",
    "data[:,0] = continuous_numbers\n",
    "out_cluster_agglo = run_agglo_clustering(data,3540)\n",
    "#foo = plot_true_reco(data)\n",
    "foo_comb = get_true_combinatorics(data)\n",
    "print(\"data size:\", len(out_cluster_agglo))\n",
    "print(\"true_size:\",len(foo_comb))\n",
    "print(\"type of out_cluster_agglo:\",type(out_cluster_agglo))\n",
    "foo_ene = get_true_reco_ene(data,out_cluster_agglo,foo_comb)"
   ]
  },
  {
   "cell_type": "markdown",
   "id": "750cf9fa-5074-4cf9-a437-41046ebc9bbe",
   "metadata": {},
   "source": [
    "### edge model"
   ]
  },
  {
   "cell_type": "markdown",
   "id": "31d92d9b-fa07-4c6c-9d06-192fa7ae176d",
   "metadata": {},
   "source": [
    "#### training data"
   ]
  },
  {
   "cell_type": "code",
   "execution_count": null,
   "id": "bba9e8ab-c8dc-44f0-b7b8-12e8571c661b",
   "metadata": {},
   "outputs": [],
   "source": [
    "#training_data = genfromtxt('training_all_output_false_negative.txt', delimiter=',')\n",
    "#training_data = genfromtxt('training_raw.txt', delimiter=',')\n",
    "##training on raw data with uniform energy distribution between 0.3 MeV and 10 MeV\n",
    "training_data = genfromtxt('data_raw_uniform_training.csv', delimiter=',')\n",
    "## some data manipulation needed\n",
    "training_data[:,4] =(training_data[:,4]-np.min(training_data[:,4]))/(np.max(training_data[:,4])-np.min(training_data[:,4]))\n",
    "unique_values, continuous_numbers = np.unique(training_data[:,0], return_inverse=True)\n",
    "training_data[:,0] = continuous_numbers\n",
    "training_data[:,2] = training_data[:,2]*math.pi/180.\n",
    "training_data[:,3] = training_data[:,3]*math.pi/180.\n",
    "training_data[:,4] = 1  ## set time to 1, not sensitive to time, TODO: remove later, just a test\n",
    "training_true = get_true_combinatorics(training_data)\n",
    "input_training_data = manip_data_ff(training_data,12) ##second param gives number of features\n",
    "\n",
    "pred_training = train_two_hidden_model(input_training_data,torch.FloatTensor(training_true),12,1000,5e-3,100)\n",
    "\n",
    "training_reco = get_true_reco_ene(training_data,pred_training[0].tolist(),training_true)"
   ]
  },
  {
   "cell_type": "markdown",
   "id": "108343f8-53de-4f32-8ce4-e91ae23aff90",
   "metadata": {},
   "source": [
    "#### validation data"
   ]
  },
  {
   "cell_type": "code",
   "execution_count": null,
   "id": "aaba442a-8d92-4e87-b887-38ebf7ce5678",
   "metadata": {},
   "outputs": [],
   "source": [
    "#val_data = genfromtxt('validation_all_output_false_negative.txt', delimiter=',')\n",
    "#val_data = genfromtxt('validation_raw.txt', delimiter=',')\n",
    "##test on raw data with uniform energy distribution from 0.3MeV to 10MeV\n",
    "val_data = genfromtxt('data_raw_uniform_test.csv', delimiter=',')\n",
    "## some data manipulation needed\n",
    "val_data[:,4] =(val_data[:,4]-np.min(val_data[:,4]))/(np.max(val_data[:,4])-np.min(val_data[:,4]))\n",
    "unique_values, continuous_numbers = np.unique(val_data[:,0], return_inverse=True)\n",
    "val_data[:,0] = continuous_numbers\n",
    "val_data[:,2] = val_data[:,2]*math.pi/180.\n",
    "val_data[:,3] = val_data[:,3]*math.pi/180.\n",
    "val_data[:,4] = 1 ## set time to 1, not sensitive to time, TODO: remove later, just a test\n",
    "val_true = get_true_combinatorics(val_data)\n",
    "input_val_data = manip_data_ff(val_data,12) ##second param gives number of features\n",
    "\n",
    "pred_val = validate_two_hidden_model(input_val_data,torch.FloatTensor(val_true),12,1000,5e-3,100)\n",
    "\n",
    "val_reco = get_true_reco_ene(val_data,pred_val[0].tolist(),val_true)"
   ]
  },
  {
   "cell_type": "markdown",
   "id": "38129e67-c6f8-4f9a-90f1-9b2aa2337a9a",
   "metadata": {},
   "source": [
    "#### just test to substract bin count"
   ]
  },
  {
   "cell_type": "code",
   "execution_count": null,
   "id": "c4342e57-cd44-4f9d-b63a-fbf63099b85e",
   "metadata": {},
   "outputs": [],
   "source": [
    "hist1, bins1 = np.histogram(val_reco[0], bins=np.linspace(0, 10, 100))\n",
    "hist2, bins2 = np.histogram(val_reco[1], bins=np.linspace(0, 10, 100))\n",
    "residual = (hist1 - hist2)\n",
    "a = np.arange(0,9.9,0.1)\n",
    "print(a)\n",
    "print(a.shape)\n",
    "print(residual.shape)\n",
    "plt.hist(a,100, weights=residual)"
   ]
  }
 ],
 "metadata": {
  "kernelspec": {
   "display_name": "Python 3 (ipykernel)",
   "language": "python",
   "name": "python3"
  },
  "language_info": {
   "codemirror_mode": {
    "name": "ipython",
    "version": 3
   },
   "file_extension": ".py",
   "mimetype": "text/x-python",
   "name": "python",
   "nbconvert_exporter": "python",
   "pygments_lexer": "ipython3",
   "version": "3.8.10"
  }
 },
 "nbformat": 4,
 "nbformat_minor": 5
}
