{
 "cells": [
  {
   "cell_type": "code",
   "execution_count": 1,
   "id": "2255898c-2713-47d7-8f40-41af422d6c98",
   "metadata": {},
   "outputs": [],
   "source": [
    "import numpy as np\n",
    "from numpy import genfromtxt\n",
    "from itertools import combinations\n",
    "import torch\n",
    "from torch import nn\n",
    "import torch.nn.functional as F\n",
    "import torch.optim as optim\n",
    "import matplotlib.pyplot as plt"
   ]
  },
  {
   "cell_type": "code",
   "execution_count": 2,
   "id": "2daeef14-5d96-46c8-807d-d97ce33d9c69",
   "metadata": {},
   "outputs": [],
   "source": [
    "#data = genfromtxt('data_stream_mult1_sim_out0.002124_window_0.000000.csv', delimiter=',')\n",
    "\n",
    "#data = genfromtxt('file.txt', delimiter=',')\n",
    "\n",
    "data = genfromtxt('test_output_false_negative.txt', delimiter=',')\n",
    "\n",
    "#data = genfromtxt('data_stream_2121.txt', delimiter=',')\n",
    "\n",
    "data[:,4] =(data[:,4]-np.min(data[:,4]))/(np.max(data[:,4])-np.min(data[:,4]))"
   ]
  },
  {
   "cell_type": "code",
   "execution_count": 3,
   "id": "c560240f-77fb-4d89-9fb3-fd04aa82db44",
   "metadata": {},
   "outputs": [
    {
     "data": {
      "text/plain": [
       "0.336398"
      ]
     },
     "execution_count": 3,
     "metadata": {},
     "output_type": "execute_result"
    }
   ],
   "source": [
    "np.min(data[:,2])"
   ]
  },
  {
   "cell_type": "code",
   "execution_count": 4,
   "id": "cf25a97b-e63e-4035-9794-cbd6db9ec3ef",
   "metadata": {},
   "outputs": [
    {
     "data": {
      "text/plain": [
       "1.474945"
      ]
     },
     "execution_count": 4,
     "metadata": {},
     "output_type": "execute_result"
    }
   ],
   "source": [
    "np.max(data[:,2])"
   ]
  },
  {
   "cell_type": "code",
   "execution_count": 5,
   "id": "e0a28ddc-dde9-4a0f-9e3d-b8e335e40e38",
   "metadata": {},
   "outputs": [
    {
     "data": {
      "text/plain": [
       "-3.141155"
      ]
     },
     "execution_count": 5,
     "metadata": {},
     "output_type": "execute_result"
    }
   ],
   "source": [
    "np.min(data[:,3])"
   ]
  },
  {
   "cell_type": "code",
   "execution_count": 6,
   "id": "cb1251fa-20b6-4368-810f-3f93a57b78b6",
   "metadata": {},
   "outputs": [
    {
     "data": {
      "text/plain": [
       "3.140776"
      ]
     },
     "execution_count": 6,
     "metadata": {},
     "output_type": "execute_result"
    }
   ],
   "source": [
    "np.max(data[:,3])"
   ]
  },
  {
   "cell_type": "code",
   "execution_count": 7,
   "id": "ab712cd7-c882-4c66-abe7-c22de0d2f059",
   "metadata": {},
   "outputs": [
    {
     "data": {
      "image/png": "[encoded data removed]",
      "text/plain": [
       "<Figure size 1152x648 with 4 Axes>"
      ]
     },
     "metadata": {
      "needs_background": "light"
     },
     "output_type": "display_data"
    }
   ],
   "source": [
    "fig,ax = plt.subplots(1,4,figsize=(16,9))\n",
    "\n",
    "for i,(axi,t) in enumerate(zip(ax.flatten(),['E','theta','phi','t'])):\n",
    "    axi.hist(data[:,i+1],50)\n",
    "    axi.set_title(t)\n",
    "    plt.yscale(\"log\")\n"
   ]
  },
  {
   "cell_type": "code",
   "execution_count": 8,
   "id": "b836c222-61fb-4bd1-8c40-6b473b22212b",
   "metadata": {},
   "outputs": [],
   "source": [
    "# true_energy = []\n",
    "# unique_indices = np.unique(data[:, 0])\n",
    "# for indices in unique_indices:\n",
    "#     # Filter rows with the current value\n",
    "#     rows = data[data[:, 0] == indices]\n",
    "#     # Sum the rows\n",
    "#     summed_row = np.sum(rows[:,1], axis=0)\n",
    "#     true_energy.append(summed_row)\n",
    "\n",
    "# # Convert the result to a NumPy array\n",
    "# result = np.array(true_energy)\n",
    "# print(result)\n",
    "# plt.hist(result,100)\n",
    "# plt.yscale(\"log\")"
   ]
  },
  {
   "cell_type": "code",
   "execution_count": null,
   "id": "145fb235-7ee9-4aee-9372-3b2862a47abe",
   "metadata": {},
   "outputs": [],
   "source": []
  }
 ],
 "metadata": {
  "kernelspec": {
   "display_name": "Python 3",
   "language": "python",
   "name": "python3"
  },
  "language_info": {
   "codemirror_mode": {
    "name": "ipython",
    "version": 3
   },
   "file_extension": ".py",
   "mimetype": "text/x-python",
   "name": "python",
   "nbconvert_exporter": "python",
   "pygments_lexer": "ipython3",
   "version": "3.6.9"
  }
 },
 "nbformat": 4,
 "nbformat_minor": 5
}
