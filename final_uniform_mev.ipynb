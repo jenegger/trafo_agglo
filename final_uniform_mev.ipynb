{
 "cells": [
  {
   "cell_type": "code",
   "execution_count": 1,
   "id": "84d98abd-9055-458c-9262-6ac92bd4ee1f",
   "metadata": {},
   "outputs": [],
   "source": [
    "import numpy as np\n",
    "from numpy import genfromtxt\n",
    "from itertools import combinations\n",
    "import torch\n",
    "import math \n",
    "from torch import nn\n",
    "import torch.nn.functional as F\n",
    "import torch.optim as optim\n",
    "import matplotlib.pyplot as plt\n",
    "%run r3b_clustering_def.ipynb\n",
    "%run agglomerative_def.ipynb\n",
    "%run ff_models_def.ipynb\n",
    "%run var1_2_agglo_edge.ipynb"
   ]
  },
  {
   "cell_type": "markdown",
   "id": "6cc3d69a-0910-4b7e-87a1-02eb0c7dbdb0",
   "metadata": {},
   "source": [
    "#### 1) r3b"
   ]
  },
  {
   "cell_type": "code",
   "execution_count": 2,
   "id": "26c50f97-9a8d-4c66-9472-b2008ac185a5",
   "metadata": {},
   "outputs": [
    {
     "name": "stdout",
     "output_type": "stream",
     "text": [
      "continuous numbers: [    0     0     0 ... 21395 21395 21395]\n",
      "(51833, 5)\n",
      "[0.0000e+00 1.0000e+00 2.0000e+00 ... 2.1393e+04 2.1394e+04 2.1395e+04]\n",
      "something goes completely wrong!!!\n",
      "angles phi1,2, theta1,2: 5.993734841333333 5.993734841333333 0.4149220085944444 0.4149220085944444\n",
      "1.0000000000000002\n",
      "something goes completely wrong!!!\n",
      "angles phi1,2, theta1,2: 1.7214848550055553 1.7214848550055553 1.3769449343777775 1.3769449343777775\n",
      "1.0000000000000002\n",
      "well reco... 0.8039261509698528\n",
      "---more statistics....---\n",
      "fully true_reco_cluster:\t 0.6055804823331464\n",
      "false positive events:\t 0.0532809871003926\n",
      "false negative events:\t 0.252103196859226\n",
      "mixed false events:\t 0.089035333707235\n",
      "end of statistiscs------\n"
     ]
    },
    {
     "data": {
      "image/png": "[encoded data removed]",
      "text/plain": [
       "<Figure size 640x480 with 1 Axes>"
      ]
     },
     "metadata": {},
     "output_type": "display_data"
    }
   ],
   "source": [
    "data = genfromtxt('./sim_data/data_uniform/test_raw.txt',delimiter=',')\n",
    "data[:,4] = 1  #this step is needed, I only want positive time values, so that I can use the time as a radius\n",
    "# ### structure of mydata : eventnr, energy, theta, phi, hit-time\n",
    "data = data*[1.,1.,3.14159/180,3.14159/180,1.]\n",
    "unique_values, continuous_numbers = np.unique(data[:,0], return_inverse=True)\n",
    "data[:,0] = continuous_numbers\n",
    "print(\"continuous numbers:\", continuous_numbers)\n",
    "out_cluster_r3b = run_r3b_clustering(data,0.25)\n",
    "#foo = plot_true_reco(data)\n",
    "foo_comb = get_true_combinatorics(data)\n",
    "foo_ene = get_true_reco_ene(data,out_cluster_r3b,foo_comb)"
   ]
  },
  {
   "cell_type": "markdown",
   "id": "ac750494-5655-4561-8687-cd50428b1fcb",
   "metadata": {},
   "source": [
    "***"
   ]
  },
  {
   "cell_type": "markdown",
   "id": "d8811957-b277-4e2f-8bd4-48820fb5f1b1",
   "metadata": {},
   "source": [
    "#### 2) agglo"
   ]
  },
  {
   "cell_type": "code",
   "execution_count": 3,
   "id": "fbc11494-a1a0-4e00-b1bc-ed00edfc3763",
   "metadata": {},
   "outputs": [
    {
     "name": "stdout",
     "output_type": "stream",
     "text": [
      "21393\n",
      "Progress: 0.00%\n",
      "Progress: 14.02%\n",
      "Progress: 28.04%\n",
      "Progress: 42.06%\n",
      "Progress: 56.09%\n",
      "Progress: 70.11%\n",
      "Progress: 84.13%\n",
      "Progress: 98.15%\n",
      "well reco... 0.8410376256134611\n",
      "---more statistics....---\n",
      "fully true_reco_cluster:\t 0.628154795288839\n",
      "false positive events:\t 0.03266965787997757\n",
      "false negative events:\t 0.31968592260235557\n",
      "mixed false events:\t 0.01948962422882782\n",
      "end of statistiscs------\n"
     ]
    },
    {
     "data": {
      "image/png": "[encoded data removed]",
      "text/plain": [
       "<Figure size 640x480 with 1 Axes>"
      ]
     },
     "metadata": {},
     "output_type": "display_data"
    }
   ],
   "source": [
    "data = genfromtxt('./sim_data/data_uniform/test_raw.txt', delimiter=',')\n",
    "data[:,4] = data[:,4]+4500  #this step is needed, I only want positive time values, so that I can use the time as a radius\n",
    "#my_data[:,4] = 1  #this step is needed, I only want positive time values, so that I can use the time as a radius\n",
    "\n",
    "# ### structure of mydata : eventnr, energy, theta, phi, hit-time\n",
    "data = data*[1.,1.,3.14159/180,3.14159/180,1.]\n",
    "unique_values, continuous_numbers = np.unique(data[:,0], return_inverse=True)\n",
    "data[:,0] = continuous_numbers\n",
    "out_cluster_agglo = run_agglo_clustering(data,3540)\n",
    "foo_comb = get_true_combinatorics(data)\n",
    "foo_ene = get_true_reco_ene(data,out_cluster_agglo,foo_comb)"
   ]
  },
  {
   "cell_type": "markdown",
   "id": "c3b207e9-0e6f-4b4b-9b32-ea3f6275c697",
   "metadata": {},
   "source": [
    "***"
   ]
  },
  {
   "cell_type": "markdown",
   "id": "61f37162-e034-4660-8779-57133f5bd815",
   "metadata": {},
   "source": [
    "#### 3a) Edge - no time"
   ]
  },
  {
   "cell_type": "code",
   "execution_count": null,
   "id": "8283b3ff-db96-45c9-bdb6-424073412c3a",
   "metadata": {},
   "outputs": [
    {
     "name": "stdout",
     "output_type": "stream",
     "text": [
      "training data read\n",
      "I start manipulating data...\n"
     ]
    },
    {
     "name": "stderr",
     "output_type": "stream",
     "text": [
      "/tmp/ipykernel_548491/903825733.py:42: UserWarning: Creating a tensor from a list of numpy.ndarrays is extremely slow. Please consider converting the list to a single numpy.ndarray with numpy.array() before converting to a tensor. (Triggered internally at ../torch/csrc/utils/tensor_new.cpp:261.)\n",
      "  input_data = torch.FloatTensor(ll)\n"
     ]
    },
    {
     "name": "stdout",
     "output_type": "stream",
     "text": [
      "after input traingin def\n",
      "Model's state_dict:\n",
      "linear.weight \t torch.Size([1000, 12])\n",
      "linear.bias \t torch.Size([1000])\n",
      "another_linear.weight \t torch.Size([100, 1000])\n",
      "another_linear.bias \t torch.Size([100])\n",
      "another_linear_two.weight \t torch.Size([100, 100])\n",
      "another_linear_two.bias \t torch.Size([100])\n",
      "linear_back.weight \t torch.Size([1, 100])\n",
      "linear_back.bias \t torch.Size([1])\n",
      "Progress: 0.00%\n",
      "Progress: 0.20%\n",
      "Progress: 0.40%\n",
      "Progress: 0.60%\n",
      "Progress: 0.80%\n",
      "Progress: 1.00%\n",
      "Progress: 1.20%\n",
      "Progress: 1.40%\n",
      "Progress: 1.60%\n",
      "Progress: 1.80%\n",
      "Progress: 2.00%\n",
      "Progress: 2.20%\n",
      "Progress: 2.40%\n",
      "Progress: 2.60%\n",
      "Progress: 2.80%\n",
      "Progress: 3.00%\n",
      "Progress: 3.20%\n",
      "Progress: 3.40%\n",
      "Progress: 3.60%\n",
      "Progress: 3.80%\n",
      "Progress: 4.00%\n",
      "Progress: 4.20%\n",
      "Progress: 4.40%\n",
      "Progress: 4.60%\n",
      "Progress: 4.80%\n",
      "Progress: 5.00%\n",
      "Progress: 5.20%\n",
      "Progress: 5.40%\n",
      "Progress: 5.60%\n",
      "Progress: 5.80%\n",
      "Progress: 6.00%\n",
      "Progress: 6.20%\n",
      "Progress: 6.40%\n",
      "Progress: 6.60%\n",
      "Progress: 6.80%\n",
      "Progress: 7.00%\n",
      "Progress: 7.20%\n",
      "Progress: 7.40%\n",
      "Progress: 7.60%\n",
      "Progress: 7.80%\n",
      "Progress: 8.00%\n",
      "Progress: 8.20%\n",
      "Progress: 8.40%\n",
      "Progress: 8.60%\n",
      "Progress: 8.80%\n",
      "Progress: 9.00%\n",
      "Progress: 9.20%\n",
      "Progress: 9.40%\n",
      "Progress: 9.60%\n",
      "Progress: 9.80%\n",
      "Progress: 10.00%\n",
      "Progress: 10.20%\n",
      "Progress: 10.40%\n",
      "Progress: 10.60%\n",
      "Progress: 10.80%\n",
      "Progress: 11.00%\n",
      "Progress: 11.20%\n",
      "Progress: 11.40%\n",
      "Progress: 11.60%\n",
      "Progress: 11.80%\n",
      "Progress: 12.00%\n",
      "Progress: 12.20%\n",
      "Progress: 12.40%\n",
      "Progress: 12.60%\n",
      "Progress: 12.80%\n",
      "Progress: 13.00%\n",
      "Progress: 13.20%\n",
      "Progress: 13.40%\n",
      "Progress: 13.60%\n",
      "Progress: 13.80%\n",
      "Progress: 14.00%\n",
      "Progress: 14.20%\n",
      "Progress: 14.40%\n"
     ]
    }
   ],
   "source": [
    "training_data = genfromtxt('./sim_data/data_uniform/training_raw.txt', delimiter=',')\n",
    "print(\"training data read\")\n",
    "## some data manipulation needed\n",
    "training_data[:,4] =(training_data[:,4]-np.min(training_data[:,4]))/(np.max(training_data[:,4])-np.min(training_data[:,4]))\n",
    "unique_values, continuous_numbers = np.unique(training_data[:,0], return_inverse=True)\n",
    "training_data[:,0] = continuous_numbers\n",
    "training_data[:,2] = training_data[:,2]*math.pi/180.\n",
    "training_data[:,3] = training_data[:,3]*math.pi/180.\n",
    "training_data[:,4] = 1  ## set time to 1, not sensitive to time, TODO: remove later, just a test\n",
    "training_true = get_true_combinatorics(training_data)\n",
    "print(\"I start manipulating data...\")\n",
    "input_training_data = manip_data_ff(training_data,12) ##second param gives number of features\n",
    "print(\"after input traingin def\")\n",
    "pred_training = train_two_hidden_model(input_training_data,torch.FloatTensor(training_true),12,1000,5e-3,100)\n",
    "print(\"pred_training finished\")\n",
    "training_reco = get_true_reco_ene(training_data,pred_training[0].tolist(),training_true)\n",
    "\n",
    "\n",
    "###testing\n",
    "val_data = genfromtxt('./sim_data/data_uniform/test_raw.txt', delimiter=',')\n",
    "## some data manipulation needed\n",
    "val_data[:,4] =(val_data[:,4]-np.min(val_data[:,4]))/(np.max(val_data[:,4])-np.min(val_data[:,4]))\n",
    "unique_values, continuous_numbers = np.unique(val_data[:,0], return_inverse=True)\n",
    "val_data[:,0] = continuous_numbers\n",
    "val_data[:,2] = val_data[:,2]*math.pi/180.\n",
    "val_data[:,3] = val_data[:,3]*math.pi/180.\n",
    "val_data[:,4] = 1 ## set time to 1, not sensitive to time, TODO: remove later, just a test\n",
    "val_true = get_true_combinatorics(val_data)\n",
    "input_val_data = manip_data_ff(val_data,12) ##second param gives number of features\n",
    "\n",
    "pred_val = validate_two_hidden_model(input_val_data,torch.FloatTensor(val_true),12,1000,5e-3,100)\n",
    "\n",
    "val_reco = get_true_reco_ene(val_data,pred_val[0].tolist(),val_true)"
   ]
  },
  {
   "cell_type": "markdown",
   "id": "872d4d8d-5627-402d-b40e-cf3de9e7e422",
   "metadata": {},
   "source": [
    "***"
   ]
  },
  {
   "cell_type": "markdown",
   "id": "04fc6ca1-cd2b-4730-9a12-2fc8544bd7c1",
   "metadata": {},
   "source": [
    "#### 3b) Edge with time"
   ]
  },
  {
   "cell_type": "code",
   "execution_count": null,
   "id": "860a3773-6545-4e7f-adcb-cf788dac45f1",
   "metadata": {},
   "outputs": [],
   "source": [
    "training_data = genfromtxt('./sim_data/data_uniform/training_raw.txt', delimiter=',')\n",
    "## some data manipulation needed\n",
    "training_data[:,4] =(training_data[:,4]-np.min(training_data[:,4]))/(np.max(training_data[:,4])-np.min(training_data[:,4]))\n",
    "unique_values, continuous_numbers = np.unique(training_data[:,0], return_inverse=True)\n",
    "training_data[:,0] = continuous_numbers\n",
    "training_data[:,2] = training_data[:,2]*math.pi/180.\n",
    "training_data[:,3] = training_data[:,3]*math.pi/180.\n",
    "#training_data[:,4] = 1  ## set time to 1, not sensitive to time, TODO: remove later, just a test\n",
    "print(\"before training true\")\n",
    "training_true = get_true_combinatorics(training_data)\n",
    "input_training_data = manip_data_ff(training_data,12) ##second param gives number of features\n",
    "\n",
    "pred_training = train_two_hidden_model(input_training_data,torch.FloatTensor(training_true),12,1000,5e-3,100)\n",
    "\n",
    "training_reco = get_true_reco_ene(training_data,pred_training[0].tolist(),training_true)\n",
    "\n",
    "\n",
    "###testing\n",
    "val_data = genfromtxt('./sim_data/data_uniform/test_raw.txt', delimiter=',')\n",
    "## some data manipulation needed\n",
    "val_data[:,4] =(val_data[:,4]-np.min(val_data[:,4]))/(np.max(val_data[:,4])-np.min(val_data[:,4]))\n",
    "unique_values, continuous_numbers = np.unique(val_data[:,0], return_inverse=True)\n",
    "val_data[:,0] = continuous_numbers\n",
    "val_data[:,2] = val_data[:,2]*math.pi/180.\n",
    "val_data[:,3] = val_data[:,3]*math.pi/180.\n",
    "#val_data[:,4] = 1 ## set time to 1, not sensitive to time, TODO: remove later, just a test\n",
    "val_true = get_true_combinatorics(val_data)\n",
    "input_val_data = manip_data_ff(val_data,12) ##second param gives number of features\n",
    "\n",
    "pred_val = validate_two_hidden_model(input_val_data,torch.FloatTensor(val_true),12,1000,5e-3,100)\n",
    "\n",
    "val_reco = get_true_reco_ene(val_data,pred_val[0].tolist(),val_true)"
   ]
  },
  {
   "cell_type": "markdown",
   "id": "dd45e828-5b27-44fe-8bcf-2f93d55e9fa2",
   "metadata": {},
   "source": [
    "***"
   ]
  },
  {
   "cell_type": "markdown",
   "id": "818ddc9d-6a0a-4b09-bcb1-3fd3df05582d",
   "metadata": {},
   "source": [
    "#### 4) Agglo + Edge"
   ]
  },
  {
   "cell_type": "code",
   "execution_count": null,
   "id": "43a3e3ad-0688-43d6-9157-522c4005f180",
   "metadata": {},
   "outputs": [],
   "source": [
    "res_var2_2_1mev = var2_agglo_edge(\"./sim_data/data_uniform/false_neg_uniform.txt\",\"./sim_data/data_uniform/test_raw.txt\",\"./sim_data/data_uniform/precluster_test.txt\")"
   ]
  },
  {
   "cell_type": "markdown",
   "id": "9a4bfe48-8d3e-4679-9bed-ab106d697a67",
   "metadata": {},
   "source": [
    "***"
   ]
  },
  {
   "cell_type": "markdown",
   "id": "6bdce0b3-12ed-44b9-88e1-e4a0db51e0de",
   "metadata": {},
   "source": [
    "#### 5) R3b + Edge no time"
   ]
  },
  {
   "cell_type": "code",
   "execution_count": null,
   "id": "b287af72-8a1f-4ad1-b35f-97fabe1a0341",
   "metadata": {},
   "outputs": [],
   "source": [
    "res_var2_r3b_edge = var2_r3b_edge(\"./sim_data/data_uniform/false_neg_uniform_r3b.txt\",\"./sim_data/data_uniform/test_raw.txt\",\"./sim_data/data_uniform/precluster_r3b_test.txt\")"
   ]
  },
  {
   "cell_type": "code",
   "execution_count": null,
   "id": "f2581b26-1509-42c1-9029-405a2519e912",
   "metadata": {},
   "outputs": [],
   "source": []
  }
 ],
 "metadata": {
  "kernelspec": {
   "display_name": "Python 3 (ipykernel)",
   "language": "python",
   "name": "python3"
  },
  "language_info": {
   "codemirror_mode": {
    "name": "ipython",
    "version": 3
   },
   "file_extension": ".py",
   "mimetype": "text/x-python",
   "name": "python",
   "nbconvert_exporter": "python",
   "pygments_lexer": "ipython3",
   "version": "3.8.10"
  }
 },
 "nbformat": 4,
 "nbformat_minor": 5
}
